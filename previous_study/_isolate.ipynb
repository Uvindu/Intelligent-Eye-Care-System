{
 "cells": [
  {
   "cell_type": "code",
   "execution_count": 7,
   "metadata": {},
   "outputs": [],
   "source": [
    "import cv2\n",
    "import matplotlib.pyplot as plt\n",
    "from gaze_tracking import GazeTracking,Eye,Pupil,Calibration\n",
    "import numpy as np"
   ]
  },
  {
   "cell_type": "code",
   "execution_count": 8,
   "metadata": {},
   "outputs": [],
   "source": [
    "%store -r landmarks\n",
    "%store -r frame\n",
    "%store -r points"
   ]
  },
  {
   "cell_type": "code",
   "execution_count": 9,
   "metadata": {},
   "outputs": [],
   "source": [
    "calib=Calibration()\n",
    "eye=Eye(frame, landmarks, 0, calib)"
   ]
  },
  {
   "cell_type": "code",
   "execution_count": null,
   "metadata": {},
   "outputs": [
    {
     "data": {
      "text/plain": [
       "<matplotlib.image.AxesImage at 0x1e27240fa20>"
      ]
     },
     "execution_count": 21,
     "metadata": {},
     "output_type": "execute_result"
    },
    {
     "data": {
      "image/png": "[encoded data removed]",
      "text/plain": [
       "<Figure size 432x288 with 1 Axes>"
      ]
     },
     "metadata": {
      "needs_background": "light"
     },
     "output_type": "display_data"
    }
   ],
   "source": [
    "plt.imshow(eye)"
   ]
  },
  {
   "cell_type": "code",
   "execution_count": 16,
   "metadata": {},
   "outputs": [
    {
     "data": {
      "text/plain": [
       "<matplotlib.image.AxesImage at 0x1e27209aef0>"
      ]
     },
     "execution_count": 16,
     "metadata": {},
     "output_type": "execute_result"
    },
    {
     "data": {
      "image/png": "[encoded data removed]",
      "text/plain": [
       "<Figure size 432x288 with 1 Axes>"
      ]
     },
     "metadata": {
      "needs_background": "light"
     },
     "output_type": "display_data"
    }
   ],
   "source": [
    "#####################################  ORIGINAL CODE #######################################\n",
    "region = np.array([(landmarks.part(point).x, landmarks.part(point).y) for point in points])\n",
    "region = region.astype(np.int32)\n",
    "\n",
    "height, width = frame.shape[:2]\n",
    "black_frame = np.zeros((height, width), np.uint8)\n",
    "\n",
    "\n",
    "mask = np.full((height, width), 255, np.uint8)\n",
    "cv2.fillPoly(mask, [region], (0, 0, 0))\n",
    "eye = cv2.bitwise_not(black_frame, frame.copy(), mask=mask)\n",
    "\n",
    "        # Cropping on the eye\n",
    "margin = 5\n",
    "min_x = np.min(region[:, 0]) - margin\n",
    "max_x = np.max(region[:, 0]) + margin\n",
    "min_y = np.min(region[:, 1]) - margin\n",
    "max_y = np.max(region[:, 1]) + margin\n",
    "\n",
    "new_frame = eye[min_y:max_y, min_x:max_x]\n",
    "\n",
    "plt.imshow(new_frame, cmap='gray')"
   ]
  },
  {
   "cell_type": "code",
   "execution_count": 18,
   "metadata": {},
   "outputs": [
    {
     "data": {
      "text/plain": [
       "<matplotlib.image.AxesImage at 0x1e2721037b8>"
      ]
     },
     "execution_count": 18,
     "metadata": {},
     "output_type": "execute_result"
    },
    {
     "data": {
      "image/png": "[encoded data removed]",
      "text/plain": [
       "<Figure size 432x288 with 1 Axes>"
      ]
     },
     "metadata": {
      "needs_background": "light"
     },
     "output_type": "display_data"
    }
   ],
   "source": [
    "############################### CHANGED CODE ###################################################\n",
    "region = np.array([(landmarks.part(point).x, landmarks.part(point).y) for point in points])\n",
    "region = region.astype(np.int32)\n",
    "\n",
    "height, width,channels = frame.shape[:]  ### CHANGED\n",
    "black_frame = np.zeros((height, width,channels), np.uint8) ##### CHANGED\n",
    "\n",
    "mask = np.full((height, width), 255, np.uint8)\n",
    "cv2.fillPoly(mask, [region], (0, 0, 0))\n",
    "f=frame.copy()\n",
    "eye = cv2.bitwise_not(black_frame, f, mask=mask)\n",
    "\n",
    "        # Cropping on the eye\n",
    "margin = 5\n",
    "min_x = np.min(region[:, 0]) - margin\n",
    "max_x = np.max(region[:, 0]) + margin\n",
    "min_y = np.min(region[:, 1]) - margin\n",
    "max_y = np.max(region[:, 1]) + margin\n",
    "\n",
    "new_frame = cv2.cvtColor(eye[min_y:max_y, min_x:max_x],cv2.COLOR_BGR2GRAY)  #### CHANGED\n",
    "\n",
    "plt.imshow(new_frame, cmap='gray')\n"
   ]
  },
  {
   "cell_type": "code",
   "execution_count": null,
   "metadata": {},
   "outputs": [],
   "source": []
  }
 ],
 "metadata": {
  "kernelspec": {
   "display_name": "Python 3",
   "language": "python",
   "name": "python3"
  },
  "language_info": {
   "codemirror_mode": {
    "name": "ipython",
    "version": 3
   },
   "file_extension": ".py",
   "mimetype": "text/x-python",
   "name": "python",
   "nbconvert_exporter": "python",
   "pygments_lexer": "ipython3",
   "version": "3.6.13"
  }
 },
 "nbformat": 4,
 "nbformat_minor": 4
}
